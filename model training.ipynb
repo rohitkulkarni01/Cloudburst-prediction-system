{
 "cells": [
  {
   "cell_type": "code",
   "execution_count": 2,
   "id": "c0814fcb",
   "metadata": {},
   "outputs": [],
   "source": [
    "#importing required libraries\n",
    "import pandas as pd\n",
    "import numpy as np\n",
    "from sklearn.tree import DecisionTreeClassifier \n",
    "from sklearn.model_selection import train_test_split \n",
    "from sklearn import metrics "
   ]
  },
  {
   "cell_type": "code",
   "execution_count": 2,
   "id": "11cc2d06",
   "metadata": {},
   "outputs": [
    {
     "data": {
      "text/html": [
       "<div>\n",
       "<style scoped>\n",
       "    .dataframe tbody tr th:only-of-type {\n",
       "        vertical-align: middle;\n",
       "    }\n",
       "\n",
       "    .dataframe tbody tr th {\n",
       "        vertical-align: top;\n",
       "    }\n",
       "\n",
       "    .dataframe thead th {\n",
       "        text-align: right;\n",
       "    }\n",
       "</style>\n",
       "<table border=\"1\" class=\"dataframe\">\n",
       "  <thead>\n",
       "    <tr style=\"text-align: right;\">\n",
       "      <th></th>\n",
       "      <th>TEMPERATURE</th>\n",
       "      <th>RELATIVE HUMIDITY</th>\n",
       "      <th>DEWPOINT</th>\n",
       "      <th>SEALEVEL PRESSURE</th>\n",
       "      <th>CLOUD COVER</th>\n",
       "      <th>WIND SPEED</th>\n",
       "      <th>output</th>\n",
       "    </tr>\n",
       "  </thead>\n",
       "  <tbody>\n",
       "    <tr>\n",
       "      <th>0</th>\n",
       "      <td>-6.9</td>\n",
       "      <td>93</td>\n",
       "      <td>-7.8</td>\n",
       "      <td>1010.0</td>\n",
       "      <td>100</td>\n",
       "      <td>3.0</td>\n",
       "      <td>0</td>\n",
       "    </tr>\n",
       "    <tr>\n",
       "      <th>1</th>\n",
       "      <td>-6.5</td>\n",
       "      <td>92</td>\n",
       "      <td>-7.6</td>\n",
       "      <td>1010.6</td>\n",
       "      <td>92</td>\n",
       "      <td>3.5</td>\n",
       "      <td>0</td>\n",
       "    </tr>\n",
       "    <tr>\n",
       "      <th>2</th>\n",
       "      <td>-5.3</td>\n",
       "      <td>75</td>\n",
       "      <td>-9.1</td>\n",
       "      <td>1010.2</td>\n",
       "      <td>89</td>\n",
       "      <td>2.0</td>\n",
       "      <td>0</td>\n",
       "    </tr>\n",
       "    <tr>\n",
       "      <th>3</th>\n",
       "      <td>-4.9</td>\n",
       "      <td>82</td>\n",
       "      <td>-7.5</td>\n",
       "      <td>1010.3</td>\n",
       "      <td>82</td>\n",
       "      <td>1.8</td>\n",
       "      <td>0</td>\n",
       "    </tr>\n",
       "    <tr>\n",
       "      <th>4</th>\n",
       "      <td>-4.3</td>\n",
       "      <td>88</td>\n",
       "      <td>-6.0</td>\n",
       "      <td>1010.2</td>\n",
       "      <td>78</td>\n",
       "      <td>4.2</td>\n",
       "      <td>0</td>\n",
       "    </tr>\n",
       "  </tbody>\n",
       "</table>\n",
       "</div>"
      ],
      "text/plain": [
       "   TEMPERATURE  RELATIVE HUMIDITY  DEWPOINT  SEALEVEL PRESSURE  CLOUD COVER  \\\n",
       "0         -6.9                 93      -7.8             1010.0          100   \n",
       "1         -6.5                 92      -7.6             1010.6           92   \n",
       "2         -5.3                 75      -9.1             1010.2           89   \n",
       "3         -4.9                 82      -7.5             1010.3           82   \n",
       "4         -4.3                 88      -6.0             1010.2           78   \n",
       "\n",
       "   WIND SPEED   output  \n",
       "0          3.0       0  \n",
       "1          3.5       0  \n",
       "2          2.0       0  \n",
       "3          1.8       0  \n",
       "4          4.2       0  "
      ]
     },
     "execution_count": 2,
     "metadata": {},
     "output_type": "execute_result"
    }
   ],
   "source": [
    "#Getting required dataset\n",
    "data=pd.read_csv(r'/Users/rohit12300/Desktop/cloudburst1.csv')\n",
    "data.head(5)"
   ]
  },
  {
   "cell_type": "code",
   "execution_count": 3,
   "id": "7ea1d299",
   "metadata": {},
   "outputs": [
    {
     "name": "stdout",
     "output_type": "stream",
     "text": [
      "Accuracy: 0.7989130434782609\n"
     ]
    }
   ],
   "source": [
    "#Training the model by using decision tree algorithm\n",
    "y = data.output\n",
    "features_cols = data.drop(['output'], axis=1)\n",
    "X = features_cols  # Use the correct variable name here\n",
    "# Split dataset into training set and test set\n",
    "X_train, X_test, y_train, y_test = train_test_split(X, y, test_size=0.3,random_state=59) # 70% training and 30% test\n",
    "clf = DecisionTreeClassifier()\n",
    "# Train Decision Tree Classifer\n",
    "clf = clf.fit(X_train,y_train)\n",
    "#Predict the response for test dataset\n",
    "y_pred = clf.predict(X_test)\n",
    "# Model Accuracy, how often is the classifier correct?\n",
    "print(\"Accuracy:\",metrics.accuracy_score(y_test, y_pred))"
   ]
  },
  {
   "cell_type": "code",
   "execution_count": 4,
   "id": "38d07e26",
   "metadata": {},
   "outputs": [
    {
     "name": "stdout",
     "output_type": "stream",
     "text": [
      "Accuricy 0.9877551020408163\n"
     ]
    }
   ],
   "source": [
    "#Training the model by using SVM(Support vector machine) algorithm\n",
    "from sklearn.svm import SVC\n",
    "from sklearn import metrics\n",
    "y = data.output\n",
    "features_colm = data.drop(['output'], axis=1)\n",
    "X = data[features_colm.columns]\n",
    "X_train, X_test, y_train, y_test = train_test_split(X, y, test_size=0.2,random_state=59)\n",
    "model = SVC(kernel=\"rbf\",gamma=0.5,C=1.0)\n",
    "model.fit(X,y)\n",
    "prediction=model.predict(X_test)\n",
    "print(\"Accuricy\",metrics.accuracy_score(y_test,prediction))"
   ]
  },
  {
   "cell_type": "code",
   "execution_count": 6,
   "id": "a8798377",
   "metadata": {},
   "outputs": [
    {
     "name": "stdout",
     "output_type": "stream",
     "text": [
      "Enter your city nameaurangabad\n",
      "[0]\n"
     ]
    },
    {
     "name": "stderr",
     "output_type": "stream",
     "text": [
      "/Users/rohit12300/anaconda3/lib/python3.11/site-packages/sklearn/base.py:464: UserWarning: X does not have valid feature names, but SVC was fitted with feature names\n",
      "  warnings.warn(\n"
     ]
    }
   ],
   "source": [
    "#Requesting the real time data \n",
    "import requests\n",
    "from math import log\n",
    "def get_weather(api_key, city):\n",
    "    base_url = \"http://api.openweathermap.org/data/2.5/weather\"\n",
    "    params = {\n",
    "        'q': city,\n",
    "        'appid': api_key,\n",
    "        'units': 'metric'  # Use 'imperial' for Fahrenheit\n",
    "    }\n",
    "\n",
    "    try:\n",
    "        response = requests.get(base_url, params=params)\n",
    "        data = response.json()\n",
    "\n",
    "        if response.status_code == 200:\n",
    "            return data\n",
    "        else:\n",
    "            print(f\"Error: {data['message']}\")\n",
    "            return None\n",
    "    except Exception as e:\n",
    "        print(f\"Error: {e}\")\n",
    "        return None\n",
    "\n",
    "def calculate_dew_point(temperature, humidity):\n",
    "    a = 17.27\n",
    "    b = 237.7\n",
    "    alpha = ((a * temperature) / (b + temperature)) + log(humidity / 100.0)\n",
    "    dew_point = (b * alpha) / (a - alpha)\n",
    "    return dew_point\n",
    "\n",
    "def main():\n",
    "    x=input(\"Enter your city name\")\n",
    "    y=\"india\"\n",
    "    # Replace 'YOUR_API_KEY' with your OpenWeatherMap API key\n",
    "    api_key = 'af6a93e56a0b45a6466cba3a3c5c7659'\n",
    "    city = x,y  # Replace with your city and country code (e.g., London,GB)\n",
    "\n",
    "    weather_data = get_weather(api_key, city)\n",
    "    if weather_data:\n",
    "        humidity = weather_data['main']['humidity']\n",
    "        pressure = weather_data['main']['pressure']\n",
    "        sea_level_pressure = weather_data['main']['sea_level'] if 'sea_level' in weather_data['main'] else None\n",
    "        temperature = weather_data['main']['temp']\n",
    "\n",
    "        dew_point = calculate_dew_point(temperature, humidity)\n",
    "        cloud = weather_data['clouds']['all']\n",
    "        wind_speed = weather_data['wind']['speed']\n",
    "\n",
    "        print(f\"Real-time weather in {city}:\")\n",
    "        print(f\"Humidity: {humidity}%\")\n",
    "        print(f\"Pressure: {pressure} hPa\")\n",
    "        \n",
    "        if sea_level_pressure is not None:\n",
    "            print(f\"Sea Level Pressure: {sea_level_pressure} hPa\")\n",
    "        else:\n",
    "            #print(\"Sea Level Pressure data not available.\")\n",
    "\n",
    "        #print(f\"Dew Point: {dew_point} °C\")\n",
    "        #print(f\"Cloud Cover: {cloud}%\")\n",
    "        #print(f\"Wind Speed: {wind_speed} m/s\")\n",
    "\n",
    "        # Assuming 'y_train' is your target variable\n",
    "        target_names = ['output']  # Replace with your actual class names\n",
    "        arr = np.array([[temperature, humidity, dew_point, sea_level_pressure, cloud, wind_speed]])\n",
    "\n",
    "        # Replace 'model' with your actual trained model\n",
    "        preds = model.predict(arr)      \n",
    "        print(preds)\n",
    "\n",
    "if __name__ == \"__main__\":\n",
    "    main()\n"
   ]
  }
 ],
 "metadata": {
  "kernelspec": {
   "display_name": "Python 3 (ipykernel)",
   "language": "python",
   "name": "python3"
  },
  "language_info": {
   "codemirror_mode": {
    "name": "ipython",
    "version": 3
   },
   "file_extension": ".py",
   "mimetype": "text/x-python",
   "name": "python",
   "nbconvert_exporter": "python",
   "pygments_lexer": "ipython3",
   "version": "3.11.5"
  }
 },
 "nbformat": 4,
 "nbformat_minor": 5
}
